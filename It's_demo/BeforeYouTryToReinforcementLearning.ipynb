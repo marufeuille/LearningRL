{
 "cells": [
  {
   "cell_type": "markdown",
   "metadata": {},
   "source": [
    "# 強化学習を始める前に\n",
    "## 強化学習ってなんだっけ\n",
    "\n",
    "強化学習は行動をすると報酬を与える環境を与えて、学習、モデルを生成する機械学習の１つの形態です。\n",
    "\n",
    "## 迷路を解いてみよう\n",
    "\n",
    "ここでは、以下のような迷路を例にとって強化学習の「前に」必要な知識の習得を行います。\n",
    "\n",
    "<img src=\"resources/maze.png\" width=\"25%\">\n",
    "\n",
    "\n",
    "### ルール\n",
    "\n",
    "この迷路は壁はなく、盤内ならどこへでも動けます。ただし、行動するだけで毎回スコアが0.04引かれます。\n",
    "また、トラップがあり、そのマスに乗るとスコアが-1され、そこでゲームは終了となります。\n",
    "ゴールすると１点獲得し、そこでゲームは終了します。"
   ]
  },
  {
   "cell_type": "markdown",
   "metadata": {},
   "source": [
    "## 迷路の定義\n",
    "迷路は以下の通り定義しています。"
   ]
  },
  {
   "cell_type": "code",
   "execution_count": 19,
   "metadata": {},
   "outputs": [],
   "source": [
    "from enum import IntEnum\n",
    "import numpy as np\n",
    "\n",
    "class UserState:\n",
    "    def __init__(self, y=-1, x=-1, score=0):\n",
    "        self.y = y\n",
    "        self.x = x\n",
    "        self.score=score\n",
    "    \n",
    "    def __repr__(self):\n",
    "        return \"<State: [{},{}]>\".format(self.x, self.y)\n",
    "    \n",
    "    def clone(self):\n",
    "        return UserState(self.y, self.x)\n",
    "    \n",
    "    def __hash__(self):\n",
    "        return hash((self.y, self.x))\n",
    "    \n",
    "    def __eq__(self, other):\n",
    "        return self.y == other.y and self.x == other.x\n",
    "\n",
    "class MazeAction(IntEnum):\n",
    "    UP    =  0\n",
    "    DOWN  =  1\n",
    "    LEFT  =  2\n",
    "    RIGHT =  3\n",
    "    \n",
    "    \n",
    "    def get_move_dir(action):\n",
    "        return [ ( 0,  1), ( 0, -1), (-1,  0), ( 1,  0)][action.value]\n",
    "\n",
    "class MazeEnvironment:\n",
    "    def __init__(self, map, move_prob=0.8, randomize=True):\n",
    "        # map is maze map, 2d array\n",
    "        #  0: road, continue game.\n",
    "        #  1: goal, get 1 point\n",
    "        # -1: damage, minus -1 point\n",
    "        self.map        = map\n",
    "        self.move_prob  = move_prob\n",
    "        self.actions    = [ MazeAction.UP, MazeAction.DOWN, MazeAction.LEFT, MazeAction.RIGHT]\n",
    "        self.user_state = UserState()\n",
    "        \n",
    "        self.y_length   = len(self.map)\n",
    "        self.x_length = len(self.map[0])\n",
    "        self.randomize = randomize\n",
    "        \n",
    "        self.penalty_by_turn = 0.004\n",
    "        \n",
    "    @property\n",
    "    def states(self):\n",
    "        states = []\n",
    "        for y in range(self.y_length):\n",
    "            for x in range(self.x_length):\n",
    "                states.append(UserState(y, x))\n",
    "        return states\n",
    "        \n",
    "    def reset(self):\n",
    "        self.user_state = UserState(y=0, x=0, score=0)\n",
    "        return self.user_state.clone()\n",
    "        \n",
    "    def is_game_end(self):\n",
    "        x = self.user_state.x\n",
    "        y = self.user_state.y\n",
    "        if not self.map[y][x] == 0:\n",
    "            return True\n",
    "        return False\n",
    "    \n",
    "    def transition_probs(self, state, action):\n",
    "        transition_probs = {}\n",
    "        opposite = {\n",
    "            MazeAction.UP.value: MazeAction.DOWN,\n",
    "            MazeAction.DOWN.value: MazeAction.UP,\n",
    "            MazeAction.LEFT.value: MazeAction.RIGHT,\n",
    "            MazeAction.RIGHT.value: MazeAction.LEFT\n",
    "        }\n",
    "        if self.randomize:\n",
    "            for a in self.actions:\n",
    "                prob = 0\n",
    "                if a == action:\n",
    "                    prob = self.move_prob\n",
    "                elif not a == opposite[action.value]:\n",
    "                    prob = (1 - self.move_prob) / (len(self.actions)-2)\n",
    "\n",
    "                next_state = self.get_next_state(state, a)\n",
    "\n",
    "                if next_state not in transition_probs:\n",
    "                    transition_probs[next_state]  = prob\n",
    "                else:\n",
    "                    transition_probs[next_state] += prob\n",
    "        else:\n",
    "            next_state = self.get_next_state(state, action)\n",
    "            transition_probs[next_state] = 1\n",
    "        return transition_probs\n",
    "    \n",
    "    def get_next_state(self, state, action):\n",
    "        direction = MazeAction.get_move_dir(action)\n",
    "        new_state = UserState(state.y + direction[1], state.x + direction[0], state.score)\n",
    "        \n",
    "        if not 0 <= new_state.y < self.y_length:\n",
    "            new_state = self.user_state\n",
    "        \n",
    "        elif not 0 <= new_state.x < self.x_length:\n",
    "            new_state = self.user_state\n",
    "\n",
    "        return new_state\n",
    "    \n",
    "    def get_current_reward(self, state):\n",
    "        reward = - penalty_by_turn\n",
    "        if self.map[state.y][state.x] == 1:\n",
    "            reward = 1\n",
    "        elif self.map[state.y][state.x] == -1:\n",
    "            reward = -1\n",
    "        return reward\n",
    "    \n",
    "    def step(self, action):\n",
    "        transition_probs = self.transition_probs(self.user_state, action)\n",
    "        if len(transition_probs) == 0:\n",
    "            return None, None, True\n",
    "        \n",
    "        next_states = []\n",
    "        probs = []\n",
    "        for s in transition_probs:\n",
    "            next_states.append(s)\n",
    "            probs.append(transition_probs[s])\n",
    "        \n",
    "        self.user_state = np.random.choice(next_states, p=probs)\n",
    "        return self.user_state, self.get_current_reward(self.user_state), self.is_game_end()"
   ]
  },
  {
   "cell_type": "markdown",
   "metadata": {},
   "source": [
    "###### 迷路の初期化 = 迷路マップの定義\n",
    "\n",
    "迷路のマップは初期値として与えます。"
   ]
  },
  {
   "cell_type": "code",
   "execution_count": 22,
   "metadata": {},
   "outputs": [],
   "source": [
    "env = MazeEnvironment([\n",
    "    [  0, -1,  0, -1,  0],\n",
    "    [  0,  0,  0,  0,  0],\n",
    "    [  0, -1, -1,  0, -3],\n",
    "    [  0,  0,  0,  0,  1]\n",
    "],  move_prob=0.8, randomize=False)"
   ]
  },
  {
   "cell_type": "markdown",
   "metadata": {},
   "source": [
    "これで迷路に対して操作が行えるようになりました！！"
   ]
  },
  {
   "cell_type": "markdown",
   "metadata": {},
   "source": [
    "## Randomに解いてみる\n",
    "\n",
    "それでは早速、迷路に挑戦しましょう！！\n",
    "解くためにはいろいろな方法があります。\n",
    "\n",
    "ここではとりあえず、ランダムに行き先を決めて、ランダムに動いてどうなるかを見てみましょう。\n",
    "\n",
    "重要なのは最終的に得られるスコアは1ゲームあたり最大1, 最低-∞ということです。"
   ]
  },
  {
   "cell_type": "code",
   "execution_count": 23,
   "metadata": {},
   "outputs": [
    {
     "name": "stdout",
     "output_type": "stream",
     "text": [
      "Episode#0: The score in this game is -1.004.\n",
      "Episode#10: The score in this game is -1.\n",
      "Episode#20: The score in this game is -1.008.\n",
      "Episode#30: The score in this game is -1.008.\n",
      "Episode#40: The score in this game is -1.028.\n",
      "Episode#50: The score in this game is -1.02.\n",
      "Episode#60: The score in this game is -1.004.\n",
      "Episode#70: The score in this game is -1.04.\n",
      "Episode#80: The score in this game is -1.028.\n",
      "Episode#90: The score in this game is -1.016.\n"
     ]
    }
   ],
   "source": [
    "import random\n",
    "\n",
    "scores = []\n",
    "for i in range(100):\n",
    "    env.reset()\n",
    "    total_reward = 0\n",
    "    done = False\n",
    "    while not done:\n",
    "        action = env.actions[random.randrange(0,4,1)]\n",
    "        _, reward, done = env.step(action)\n",
    "        total_reward += reward\n",
    "    if i % 10 == 0: print(\"Episode#{}: The score in this game is {}.\".format(i, total_reward))\n",
    "    scores.append(total_reward)"
   ]
  },
  {
   "cell_type": "markdown",
   "metadata": {},
   "source": [
    "とりあえず10回実行してみましたが、ランダムに動き回っているだけなので、パッと見あまり良くないスコアです。\n",
    "\n",
    "せっかくなので、グラフ化してみましょう。"
   ]
  },
  {
   "cell_type": "code",
   "execution_count": 24,
   "metadata": {},
   "outputs": [
    {
     "data": {
      "image/png": "[encoded data removed]",
      "text/plain": [
       "<Figure size 432x288 with 1 Axes>"
      ]
     },
     "metadata": {
      "needs_background": "light"
     },
     "output_type": "display_data"
    }
   ],
   "source": [
    "import matplotlib.pyplot as plt\n",
    "import matplotlib.cm as cm\n",
    "\n",
    "fig = plt.figure()\n",
    "plt.title(\"Score History\")\n",
    "plt.grid()\n",
    "plt.plot(scores)\n",
    "plt.show()"
   ]
  },
  {
   "cell_type": "markdown",
   "metadata": {},
   "source": [
    "よくわからないですが、再現性もなさそうであまり良くないように見えますね。\n",
    "この解説では、いろいろな方法を使ってこの問題をよりよく解く方法を説明していきます。"
   ]
  },
  {
   "cell_type": "markdown",
   "metadata": {},
   "source": [
    "## 環境=迷路の条件\n",
    "\n",
    "ところで、今回の環境で用意した迷路は一定のルールに従っています。\n",
    "それは以下の様に表され、このルールのことをマルコフ性といいます。\n",
    "\n",
    "- 「遷移先の状態は直前の状態とそこでの行動のみに依存する」\n",
    "- 「得られる報酬は直前の状態と遷移先に依存する」\n",
    "\n",
    "強化学習ではこの条件を満たした環境であることを仮定して問題に取り組みます。\n",
    "この条件を満たした環境のことをマルコフ決定過程（Marcov Decision Process:MDP)と呼びます。"
   ]
  },
  {
   "cell_type": "markdown",
   "metadata": {},
   "source": [
    "## Dynamic Programming(動的計画法)\n",
    "動的計画法は環境全体を見渡して、行動の「価値」が最大となるような行動を選択します。\n",
    "\n",
    "動的計画法はアルゴリズム的なアプローチであり、試行錯誤して解を導くものではありません。\n",
    "このアプローチでは、迷路で言えばそのマスに移動したときに得られる可能性のある価値（スコア）をシミュレーションして、それぞれのマスの価値を求めます。\n",
    "そのマスに移動した時得られる可能性のあるスコアは実際にはその先のゴールまで行き着かないと計算することはできません。\n",
    "動的計画法ではまずはある程度適当な値を設定した上で、少しずつ差分を小さくしていきある一定のしきい値を下回ったらそれを解とする手法です。"
   ]
  },
  {
   "cell_type": "code",
   "execution_count": 25,
   "metadata": {},
   "outputs": [],
   "source": [
    "class ValueIterationPlanner:\n",
    "    def __init__(self, env):\n",
    "        self.env = env\n",
    "        self.log = []\n",
    "    \n",
    "    def initialize(self):\n",
    "        self.env.reset()\n",
    "        self.log = []\n",
    "    \n",
    "    def plan(self, gamma=0.9, threshold=0.0001):\n",
    "        self.initialize()\n",
    "        actions = self.env.actions\n",
    "        V = {}\n",
    "        for s in self.env.states:\n",
    "            V[s] = 0\n",
    "        \n",
    "        while True:\n",
    "            delta = 0\n",
    "            #self.log.append(self.dict_to_map(V))\n",
    "            for s in V:\n",
    "                if self.env.map[s.y][s.x] != 0:\n",
    "                    continue\n",
    "                expected_rewards = []\n",
    "                for a in actions:\n",
    "                    r = 0\n",
    "                    for prob, next_state, reward in self.transitions_at(s, a):\n",
    "                        r += prob * (reward + gamma * V[next_state])\n",
    "                    expected_rewards.append(r)\n",
    "                max_reward = max(expected_rewards)\n",
    "                delta = max(delta, abs(max_reward - V[s]))\n",
    "                V[s] = max_reward\n",
    "            if delta < threshold:\n",
    "                break\n",
    "        V_map = self.dict_to_map(V)\n",
    "        return V_map\n",
    "    \n",
    "    # 現在地点からactionを行うときの行き先リストと確率\n",
    "    def transitions_at(self, state, action):\n",
    "        transition_probs = self.env.transition_probs(state, action)\n",
    "        for next_state in transition_probs:\n",
    "            prob = transition_probs[next_state]\n",
    "            reward = self.env.get_current_reward(next_state)\n",
    "            yield prob, next_state, reward\n",
    "    \n",
    "    def dict_to_map(self, state_reward_dict):\n",
    "        value_map = []\n",
    "        for i in range(self.env.y_length):\n",
    "            row = [0] * self.env.x_length\n",
    "            value_map.append(row)\n",
    "        for s in state_reward_dict:\n",
    "            value_map[s.y][s.x] = state_reward_dict[s]\n",
    "        return value_map"
   ]
  },
  {
   "cell_type": "markdown",
   "metadata": {},
   "source": [
    "それでは早速シミュレーションします。"
   ]
  },
  {
   "cell_type": "code",
   "execution_count": 26,
   "metadata": {},
   "outputs": [],
   "source": [
    "scores = []\n",
    "planner = ValueIterationPlanner(env)\n",
    "V = np.array(planner.plan())"
   ]
  },
  {
   "cell_type": "markdown",
   "metadata": {},
   "source": [
    "シミュレーションした結果をグラフ化します。ミドリが濃ければ濃いほど価値が高いことを表します。\n",
    "(0, 0)のマスでは程々の高さで、ゴールの(5,4)の横である(4,4)が最も濃い色になっていることがわかるかと思います。\n",
    "\n",
    "また、トラップマスは基本的に薄黄色（価値がない）と判断されています。"
   ]
  },
  {
   "cell_type": "code",
   "execution_count": 27,
   "metadata": {},
   "outputs": [
    {
     "data": {
      "image/png": "[encoded data removed]",
      "text/plain": [
       "<Figure size 1440x1152 with 1 Axes>"
      ]
     },
     "metadata": {
      "needs_background": "light"
     },
     "output_type": "display_data"
    }
   ],
   "source": [
    "fig = plt.figure(figsize=(20,16))\n",
    "ax = plt.subplot(env.y_length, env.x_length, 1)\n",
    "plt.imshow(V, cmap=cm.RdYlGn, interpolation=\"bilinear\", vmax=abs(V).max(), vmin=-abs(V).max())\n",
    "ax.set_xlim(-0.5, env.x_length - 0.5)\n",
    "ax.set_ylim(-0.5, env.y_length - 0.5)\n",
    "ax.set_xticks(np.arange(-0.5, env.x_length, 1))\n",
    "ax.set_yticks(np.arange(-0.5, env.y_length, 1))\n",
    "ax.set_xticklabels(range(env.x_length + 1))\n",
    "ax.set_yticklabels(range(env.y_length + 1))\n",
    "ax.grid(which=\"both\")\n",
    "plt.show()"
   ]
  },
  {
   "cell_type": "markdown",
   "metadata": {},
   "source": [
    "## 経験を積んで予測を行う\n",
    "\n",
    "ここでは先程の動的計画法と違い、実際に経験してそこからモデルを作り上げる方法を見ていきます。\n",
    "\n",
    "\n",
    "\n",
    "## ε-Delta\n",
    "\n",
    "先程の動的計画法は、環境のモデルがすべてわからなければ利用できません。\n",
    "\n",
    "ここからは、機械学習らしい方法に入っていきます。実際に試してみて、学習していくというある意味総当たり的な方法です。\n",
    "\n",
    "ε-deltaは実績を重視しつつもたまに冒険するポリシーを利用して学習を進める方法です。\n",
    "具体的には、基本的には実績を見てそれを尊重して行動するものの、εとして設定したパーセンテージだけ冒険し、さらに良い解を探していきます。\n",
    "\n",
    "ε-deltaはあくまでもどう学習していくかという戦略です。実績を見るのは後述するMontecarloやQLearning(未作成）を利用します。\n",
    "\n",
    "以下クラスでは戦略(policy)としてε-deltaが実装されたクラスを実装します。\n",
    "実際には学習(learn)メソッドの実装が必要で、それをMontecarloやQLearningで実装します。"
   ]
  },
  {
   "cell_type": "code",
   "execution_count": 28,
   "metadata": {},
   "outputs": [],
   "source": [
    "class ELAgent:\n",
    "    def __init__(self, epsilon):\n",
    "        self.Q = {}\n",
    "        self.epsilon = epsilon\n",
    "        self.reward_log = []\n",
    "    \n",
    "    # ポリシーに従ってアクションを実行します。\n",
    "    # ここではself.epsilon %でランダムに行動し、1 - self,epsilon %で実績に基づいた行動を取ります\n",
    "    def policy(self, state, actions):\n",
    "        if np.random.random() < self.epsilon:\n",
    "            return MazeAction(np.random.randint(len(actions)))\n",
    "        else:\n",
    "            if state in self.Q and sum(self.Q[state]) != 0:\n",
    "                return MazeAction(np.argmax(self.Q[state]))\n",
    "            else:\n",
    "                return MazeAction(np.random.randint(len(actions)))\n",
    "    \n",
    "    def init_log(self):\n",
    "        self.reward_log = []\n",
    "        \n",
    "    def log(self, reward):\n",
    "        self.reward_log.append(reward)\n",
    "    \n",
    "    def show_reward_log(self, interval=50, episode=-1):\n",
    "        if episode > 0:\n",
    "            rewards = self.reward_log[-interval:]\n",
    "            mean = np.round(np.mean(rewards), 3)\n",
    "            std = np.round(np.std(rewards), 3)\n",
    "            print(\"At Episode {} average reward is {} (+/-{})\".format(episode, mean, std))\n",
    "        \n",
    "        else:\n",
    "            indices = list(range(0, len(self.reward_log), interval))\n",
    "            means = []\n",
    "            stds = []\n",
    "            for i in indices:\n",
    "                rewards = self.reward_log[i:(i+interval)]\n",
    "                means.append(np.mean(rewards))\n",
    "                stds.append(np.std(rewards))\n",
    "            \n",
    "            means = np.array(means)\n",
    "            stds = np.array(stds)\n",
    "            \n",
    "            plt.figure()\n",
    "            plt.title(\"Reward History\")\n",
    "            plt.grid()\n",
    "            plt.fill_between(indices, means - stds, means + stds, alpha=0.1, color=\"g\")\n",
    "            plt.plot(indices, means, \"o-\", color=\"g\", label=\"Rewards for each {} episode.\".format(interval))\n",
    "            plt.legend(loc=\"best\")\n",
    "            plt.show()"
   ]
  },
  {
   "cell_type": "markdown",
   "metadata": {},
   "source": [
    "上のε-deltaクラスを利用して、MontrCarloを利用するAgentを実装していきます。\n",
    "\n",
    "具体的にはlearnメソッドを実装します。\n",
    "中身としてはself.Qに価値を格納していきます。\n",
    "\n",
    "self.Qはself.Q[state][action]として使います。\n",
    "この場合、stateにおけるactionの価値を表しています。\n",
    "\n",
    "更新は、まず１エピソード分行動してその結果をベースにフィードバックします。\n",
    "１エピソード実施すると、スタートからゴールまでの状態とそこで何をしたか、そこで何を得たかが経験として蓄積されます。\n",
    "その結果を改めて見直して各状態であるアクションを取ってそこからゴールに行き着くまでに得られる価値を、その先の結果を減衰率γのt乗（その状態から遠ければ遠いほど大きくなる、つまり遠いものは得られるかわからないので少ししか信用しない的なノリ）をかけて計算します。\n",
    "\n",
    "続ければ続けるほど、１つの状態からあるアクションを取ってゴールに行くまでの色々な経験ができてきますが、その経験を集約し平均することである状態からゴールに行きつける価値をそれぞれ算出していきます。\n",
    "\n",
    "具体的な実装は以下のようになります。"
   ]
  },
  {
   "cell_type": "code",
   "execution_count": 30,
   "metadata": {},
   "outputs": [],
   "source": [
    "import mathfrom collections import defaultdict\n",
    "\n",
    "class MonteCarloAgent(ELAgent):\n",
    "    \n",
    "    def __init__(self, epsilon=0.1):\n",
    "        super().__init__(epsilon)\n",
    "        \n",
    "    def learn(self, env, episode_count=1000, gamma=0.9, report_interval=50):\n",
    "        self.init_log()\n",
    "        self.Q = defaultdict(lambda: [0] * len(actions))\n",
    "        N = defaultdict(lambda: [0] * len(actions))\n",
    "        actions = list(range(len(env.actions)))\n",
    "        \n",
    "        for e in range(episode_count):\n",
    "            s = env.reset()\n",
    "            done = False\n",
    "            experience = []\n",
    "            total_reward = 0\n",
    "            while not done:\n",
    "                a = self.policy(s, actions)\n",
    "                n_state, reward, done = env.step(a)\n",
    "                experience.append({\"state\": s, \"action\": a, \"reward\": reward})\n",
    "                s = n_state\n",
    "                total_reward += reward\n",
    "            else:\n",
    "                self.log(total_reward)\n",
    "                \n",
    "            \n",
    "            for i, x in enumerate(experience):\n",
    "                s, a = x[\"state\"], x[\"action\"]\n",
    "                G, t = 0, 0\n",
    "                for j in range(i, len(experience)):\n",
    "                    G += math.pow(gamma, t) * experience[j][\"reward\"]\n",
    "                    t += 1\n",
    "                \n",
    "                N[s][a] += 1\n",
    "                alpha = 1 / N[s][a]\n",
    "                self.Q[s][a] += alpha * (G - self.Q[s][a])\n",
    "            \n",
    "            if e != 0 and e % report_interval == 0:\n",
    "                self.show_reward_log(episode=e)"
   ]
  },
  {
   "cell_type": "markdown",
   "metadata": {},
   "source": [
    "実装には関係ないですが、可視化のための関数を定義します。"
   ]
  },
  {
   "cell_type": "code",
   "execution_count": 29,
   "metadata": {},
   "outputs": [],
   "source": [
    "import matplotlib.cm as cm\n",
    "\n",
    "def show_q_value(env, Q): \n",
    "    ny = env.y_length\n",
    "    nx = env.x_length\n",
    "    state_size = 3\n",
    "    q_ny = ny * state_size\n",
    "    q_nx = nx * state_size\n",
    "    reward_map = np.zeros((q_ny, q_nx))\n",
    "    \n",
    "    for y in range(ny):\n",
    "        for x in range(nx):\n",
    "            s = UserState(y, x)\n",
    "            state_exist = False\n",
    "            if isinstance(Q, dict) and s in Q:\n",
    "                state_exist = True\n",
    "            elif isinstance(Q, (np.ndarray, np.generic)) and s < Q.shape[0]:\n",
    "                state_exist = True\n",
    "            \n",
    "            if state_exist:\n",
    "                _y = 1 + y * state_size\n",
    "                _x = 1 + x * state_size\n",
    "                reward_map[_y][_x]     = np.mean(Q[s])\n",
    "                reward_map[_y + 1][_x] = Q[s][MazeAction.UP.value]\n",
    "                reward_map[_y - 1][_x] = Q[s][MazeAction.DOWN.value]\n",
    "                reward_map[_y][_x - 1] = Q[s][MazeAction.LEFT.value]\n",
    "                reward_map[_y][_x + 1] = Q[s][MazeAction.RIGHT.value]\n",
    "            \n",
    "    fig = plt.figure()\n",
    "    ax = fig.add_subplot(1, 1, 1)\n",
    "    print(reward_map.max())\n",
    "    print(reward_map.min())\n",
    "    plt.imshow(reward_map, cmap=cm.RdYlGn, interpolation=\"bilinear\", vmax=abs(reward_map).max(), vmin=-abs(reward_map).max())\n",
    "    ax.set_xlim(-0.5, q_nx - 0.5)\n",
    "    ax.set_ylim(-0.5, q_ny - 0.5)\n",
    "    ax.set_xticks(np.arange(-0.5, q_nx, state_size))\n",
    "    ax.set_yticks(np.arange(-0.5, q_ny, state_size))\n",
    "    ax.set_xticklabels(range(nx + 1))\n",
    "    ax.set_yticklabels(range(ny + 1))\n",
    "    ax.grid(which=\"both\")\n",
    "    plt.show()"
   ]
  },
  {
   "cell_type": "markdown",
   "metadata": {},
   "source": [
    "これで準備が整いました！\n",
    "それでは実際に学習させてみましょう。"
   ]
  },
  {
   "cell_type": "code",
   "execution_count": 31,
   "metadata": {},
   "outputs": [
    {
     "name": "stdout",
     "output_type": "stream",
     "text": [
      "At Episode 50 average reward is -1.155 (+/-0.17)\n",
      "At Episode 100 average reward is -1.192 (+/-0.193)\n",
      "At Episode 150 average reward is -1.127 (+/-0.199)\n",
      "At Episode 200 average reward is -1.116 (+/-0.275)\n",
      "At Episode 250 average reward is -1.07 (+/-0.267)\n",
      "At Episode 300 average reward is -1.023 (+/-0.299)\n",
      "At Episode 350 average reward is -1.017 (+/-0.361)\n",
      "At Episode 400 average reward is -1.102 (+/-0.326)\n",
      "At Episode 450 average reward is -1.091 (+/-0.289)\n",
      "At Episode 500 average reward is -1.032 (+/-0.372)\n",
      "At Episode 550 average reward is -1.017 (+/-0.341)\n",
      "At Episode 600 average reward is -1.105 (+/-0.29)\n",
      "At Episode 650 average reward is -1.007 (+/-0.436)\n",
      "At Episode 700 average reward is -1.03 (+/-0.4)\n",
      "At Episode 750 average reward is -1.012 (+/-0.381)\n",
      "At Episode 800 average reward is -1.014 (+/-0.42)\n",
      "At Episode 850 average reward is -0.89 (+/-0.578)\n",
      "At Episode 900 average reward is -0.45 (+/-0.942)\n",
      "At Episode 950 average reward is -0.205 (+/-0.95)\n",
      "At Episode 1000 average reward is -0.243 (+/-0.948)\n",
      "At Episode 1050 average reward is -0.192 (+/-0.939)\n",
      "At Episode 1100 average reward is 0.002 (+/-0.971)\n",
      "At Episode 1150 average reward is -0.281 (+/-0.942)\n",
      "At Episode 1200 average reward is -0.06 (+/-0.971)\n",
      "At Episode 1250 average reward is -0.07 (+/-0.953)\n",
      "At Episode 1300 average reward is -0.077 (+/-0.958)\n",
      "At Episode 1350 average reward is -0.082 (+/-0.964)\n",
      "At Episode 1400 average reward is -0.352 (+/-0.909)\n",
      "At Episode 1450 average reward is -0.07 (+/-0.978)\n",
      "At Episode 1500 average reward is -0.062 (+/-0.969)\n",
      "At Episode 1550 average reward is 0.067 (+/-0.947)\n",
      "At Episode 1600 average reward is -0.062 (+/-0.945)\n",
      "At Episode 1650 average reward is -0.075 (+/-0.99)\n",
      "At Episode 1700 average reward is -0.143 (+/-0.96)\n",
      "At Episode 1750 average reward is -0.04 (+/-0.967)\n",
      "At Episode 1800 average reward is 0.309 (+/-0.923)\n",
      "At Episode 1850 average reward is 0.373 (+/-0.909)\n",
      "At Episode 1900 average reward is 0.331 (+/-0.904)\n",
      "At Episode 1950 average reward is 0.41 (+/-0.89)\n"
     ]
    }
   ],
   "source": [
    "env.reset()\n",
    "agent = MonteCarloAgent(epsilon=0.3)\n",
    "agent.learn(env, episode_count=2000, report_interval=50)"
   ]
  },
  {
   "cell_type": "markdown",
   "metadata": {},
   "source": [
    "結果を可視化してみます。\n",
    "赤が濃ければ濃いほどマイナス、透明に近いところはプラマイゼロ、ミドリが濃ければ濃いほど価値が高いということを表します。\n",
    "\n",
    "今回の場合、１つのマスを９つのセルに分割しています。\n",
    "それぞれ、そのマスから進む方向に対して価値が表示されます。\n",
    "\n",
    "例えば今回の場合濃い赤があるところ、例えば左下の(0,0)からは右に濃い赤があります。\n",
    "右、つまり(1,0)は最初の定義上トラップがあるところでした。ポイント低いことがわかっている穴には落ちない、という価値観を表現していると言えます。\n",
    "\n",
    "逆に(4,4)の右は濃い緑です。(5,4)はゴールなので最も価値が高いマスです。"
   ]
  },
  {
   "cell_type": "code",
   "execution_count": 32,
   "metadata": {},
   "outputs": [
    {
     "name": "stdout",
     "output_type": "stream",
     "text": [
      "1.0\n",
      "-1.0\n"
     ]
    },
    {
     "data": {
      "image/png": "[encoded data removed]",
      "text/plain": [
       "<Figure size 432x288 with 1 Axes>"
      ]
     },
     "metadata": {
      "needs_background": "light"
     },
     "output_type": "display_data"
    },
    {
     "data": {
      "image/png": "[encoded data removed]",
      "text/plain": [
       "<Figure size 432x288 with 1 Axes>"
      ]
     },
     "metadata": {
      "needs_background": "light"
     },
     "output_type": "display_data"
    }
   ],
   "source": [
    "show_q_value(env, agent.Q)\n",
    "agent.show_reward_log()"
   ]
  },
  {
   "cell_type": "code",
   "execution_count": null,
   "metadata": {},
   "outputs": [],
   "source": []
  },
  {
   "cell_type": "code",
   "execution_count": null,
   "metadata": {},
   "outputs": [],
   "source": []
  }
 ],
 "metadata": {
  "kernelspec": {
   "display_name": "Python 3",
   "language": "python",
   "name": "python3"
  },
  "language_info": {
   "codemirror_mode": {
    "name": "ipython",
    "version": 3
   },
   "file_extension": ".py",
   "mimetype": "text/x-python",
   "name": "python",
   "nbconvert_exporter": "python",
   "pygments_lexer": "ipython3",
   "version": "3.5.2"
  }
 },
 "nbformat": 4,
 "nbformat_minor": 2
}
